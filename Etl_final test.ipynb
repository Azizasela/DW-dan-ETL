{
  "nbformat": 4,
  "nbformat_minor": 0,
  "metadata": {
    "colab": {
      "provenance": [],
      "authorship_tag": "ABX9TyNGerafjYmOysJX2TnGjy9J",
      "include_colab_link": true
    },
    "kernelspec": {
      "name": "python3",
      "display_name": "Python 3"
    },
    "language_info": {
      "name": "python"
    }
  },
  "cells": [
    {
      "cell_type": "markdown",
      "metadata": {
        "id": "view-in-github",
        "colab_type": "text"
      },
      "source": [
        "<a href=\"https://colab.research.google.com/github/Azizasela/DW-dan-ETL/blob/main/Etl_final%20test.ipynb\" target=\"_parent\"><img src=\"https://colab.research.google.com/assets/colab-badge.svg\" alt=\"Open In Colab\"/></a>"
      ]
    },
    {
      "cell_type": "code",
      "execution_count": null,
      "metadata": {
        "colab": {
          "base_uri": "https://localhost:8080/",
          "height": 1000
        },
        "id": "UjhWV_TR8KAp",
        "outputId": "33d1002c-3cfd-44f2-dc71-fbae1230e1bd"
      },
      "outputs": [
        {
          "output_type": "stream",
          "name": "stdout",
          "text": [
            "                                               title  \\\n",
            "0  Uji Coba SATRIA-1 Sukses, Siap Layani Masyarak...   \n",
            "1  FOTO: Emperor Alexander III Rusia Bersiap Meny...   \n",
            "2  Drone Emprit: Anies-Ganjar Dapat Sentimen Posi...   \n",
            "3  Siapa yang Pertama Menyebar Narasi Kebencian s...   \n",
            "4  COP28 Serukan Peralihan Penggunaan Bahan Bakar...   \n",
            "5  Rekor TikTok, Pengguna Habiskan Uang Rp156 Tri...   \n",
            "6  Kemenangan Epic, Google Tumbang di Sidang Anti...   \n",
            "7         INFOGRAFIS: Kaleidoskop BAKTI Kominfo 2023   \n",
            "8  Mengenal JAKI, Aplikasi yang Dipamerkan Anies ...   \n",
            "9  Cara Mengatasi Instagram Tidak Bisa Dibuka ses...   \n",
            "\n",
            "                                                link  \\\n",
            "0  https://www.cnnindonesia.com/teknologi/2023121...   \n",
            "1  https://www.cnnindonesia.com/teknologi/2023121...   \n",
            "2  https://www.cnnindonesia.com/teknologi/2023121...   \n",
            "3  https://www.cnnindonesia.com/teknologi/2023121...   \n",
            "4  https://www.cnnindonesia.com/teknologi/2023121...   \n",
            "5  https://www.cnnindonesia.com/teknologi/2023121...   \n",
            "6  https://www.cnnindonesia.com/teknologi/2023121...   \n",
            "7  https://www.cnnindonesia.com/teknologi/2023121...   \n",
            "8  https://www.cnnindonesia.com/teknologi/2023121...   \n",
            "9  https://www.cnnindonesia.com/teknologi/2023112...   \n",
            "\n",
            "                                      contentSnippet  \\\n",
            "0  Menkominfo Budi Arie Setiadi mengatakan bahwa ...   \n",
            "1  Rusia meluncurkan dua kapal selam baru, salah ...   \n",
            "2  Drone Emprit mengungkap sentimen warganet terh...   \n",
            "3  Narasi kebencian mengenai pengungsi Rohingya d...   \n",
            "4  Rancangan kesepakatan iklim PBB, COP28 pada ha...   \n",
            "5  TikTok memecahkan rekor sebagai aplikasi non-g...   \n",
            "6  Epic Games, pembuat gim 'Fortnite' menang di p...   \n",
            "7  BAKTI Kominfo melewati banyak hal selama 2023,...   \n",
            "8  Apa itu aplikasi JAKI yang dipamerkan 1 Anies ...   \n",
            "9  Cara mengatasi Instagram tidak bisa dibuka ada...   \n",
            "\n",
            "                    isoDate                                              image  \n",
            "0  2023-12-13T14:51:20.000Z  {'small': 'https://akcdn.detik.net.id/visual/2...  \n",
            "1  2023-12-13T13:21:37.000Z  {'small': 'https://akcdn.detik.net.id/visual/2...  \n",
            "2  2023-12-13T11:51:04.000Z  {'small': 'https://akcdn.detik.net.id/visual/2...  \n",
            "3  2023-12-13T10:20:54.000Z  {'small': 'https://akcdn.detik.net.id/visual/2...  \n",
            "4  2023-12-13T08:51:11.000Z  {'small': 'https://akcdn.detik.net.id/visual/2...  \n",
            "5  2023-12-13T07:21:00.000Z  {'small': 'https://akcdn.detik.net.id/visual/2...  \n",
            "6  2023-12-13T05:51:00.000Z  {'small': 'https://akcdn.detik.net.id/visual/2...  \n",
            "7  2023-12-13T04:21:34.000Z  {'small': 'https://akcdn.detik.net.id/visual/2...  \n",
            "8  2023-12-13T03:05:06.000Z  {'small': 'https://akcdn.detik.net.id/visual/2...  \n",
            "9  2023-12-13T02:00:45.000Z  {'small': 'https://akcdn.detik.net.id/visual/2...  \n",
            "title             object\n",
            "link              object\n",
            "contentSnippet    object\n",
            "isoDate           object\n",
            "image             object\n",
            "dtype: object\n"
          ]
        },
        {
          "output_type": "error",
          "ename": "KeyError",
          "evalue": "ignored",
          "traceback": [
            "\u001b[0;31m---------------------------------------------------------------------------\u001b[0m",
            "\u001b[0;31mKeyError\u001b[0m                                  Traceback (most recent call last)",
            "\u001b[0;32m<ipython-input-1-79dc3cbd3e73>\u001b[0m in \u001b[0;36m<cell line: 19>\u001b[0;34m()\u001b[0m\n\u001b[1;32m     17\u001b[0m \u001b[0mprint\u001b[0m\u001b[0;34m(\u001b[0m\u001b[0mdf\u001b[0m\u001b[0;34m.\u001b[0m\u001b[0mdtypes\u001b[0m\u001b[0;34m)\u001b[0m\u001b[0;34m\u001b[0m\u001b[0;34m\u001b[0m\u001b[0m\n\u001b[1;32m     18\u001b[0m \u001b[0;34m\u001b[0m\u001b[0m\n\u001b[0;32m---> 19\u001b[0;31m \u001b[0mdf_agg\u001b[0m \u001b[0;34m=\u001b[0m \u001b[0mdf\u001b[0m\u001b[0;34m.\u001b[0m\u001b[0mgroupby\u001b[0m\u001b[0;34m(\u001b[0m\u001b[0;34m'creator'\u001b[0m\u001b[0;34m)\u001b[0m\u001b[0;34m.\u001b[0m\u001b[0msize\u001b[0m\u001b[0;34m(\u001b[0m\u001b[0;34m)\u001b[0m\u001b[0;34m\u001b[0m\u001b[0;34m\u001b[0m\u001b[0m\n\u001b[0m\u001b[1;32m     20\u001b[0m \u001b[0mdf_agg\u001b[0m \u001b[0;34m=\u001b[0m \u001b[0mdf_agg\u001b[0m\u001b[0;34m.\u001b[0m\u001b[0msort_values\u001b[0m\u001b[0;34m(\u001b[0m\u001b[0mascending\u001b[0m\u001b[0;34m=\u001b[0m\u001b[0;32mFalse\u001b[0m\u001b[0;34m)\u001b[0m\u001b[0;34m\u001b[0m\u001b[0;34m\u001b[0m\u001b[0m\n\u001b[1;32m     21\u001b[0m \u001b[0mprint\u001b[0m\u001b[0;34m(\u001b[0m\u001b[0mdf_agg\u001b[0m\u001b[0;34m)\u001b[0m\u001b[0;34m\u001b[0m\u001b[0;34m\u001b[0m\u001b[0m\n",
            "\u001b[0;32m/usr/local/lib/python3.10/dist-packages/pandas/core/frame.py\u001b[0m in \u001b[0;36mgroupby\u001b[0;34m(self, by, axis, level, as_index, sort, group_keys, squeeze, observed, dropna)\u001b[0m\n\u001b[1;32m   8400\u001b[0m         \u001b[0maxis\u001b[0m \u001b[0;34m=\u001b[0m \u001b[0mself\u001b[0m\u001b[0;34m.\u001b[0m\u001b[0m_get_axis_number\u001b[0m\u001b[0;34m(\u001b[0m\u001b[0maxis\u001b[0m\u001b[0;34m)\u001b[0m\u001b[0;34m\u001b[0m\u001b[0;34m\u001b[0m\u001b[0m\n\u001b[1;32m   8401\u001b[0m \u001b[0;34m\u001b[0m\u001b[0m\n\u001b[0;32m-> 8402\u001b[0;31m         return DataFrameGroupBy(\n\u001b[0m\u001b[1;32m   8403\u001b[0m             \u001b[0mobj\u001b[0m\u001b[0;34m=\u001b[0m\u001b[0mself\u001b[0m\u001b[0;34m,\u001b[0m\u001b[0;34m\u001b[0m\u001b[0;34m\u001b[0m\u001b[0m\n\u001b[1;32m   8404\u001b[0m             \u001b[0mkeys\u001b[0m\u001b[0;34m=\u001b[0m\u001b[0mby\u001b[0m\u001b[0;34m,\u001b[0m\u001b[0;34m\u001b[0m\u001b[0;34m\u001b[0m\u001b[0m\n",
            "\u001b[0;32m/usr/local/lib/python3.10/dist-packages/pandas/core/groupby/groupby.py\u001b[0m in \u001b[0;36m__init__\u001b[0;34m(self, obj, keys, axis, level, grouper, exclusions, selection, as_index, sort, group_keys, squeeze, observed, mutated, dropna)\u001b[0m\n\u001b[1;32m    963\u001b[0m             \u001b[0;32mfrom\u001b[0m \u001b[0mpandas\u001b[0m\u001b[0;34m.\u001b[0m\u001b[0mcore\u001b[0m\u001b[0;34m.\u001b[0m\u001b[0mgroupby\u001b[0m\u001b[0;34m.\u001b[0m\u001b[0mgrouper\u001b[0m \u001b[0;32mimport\u001b[0m \u001b[0mget_grouper\u001b[0m\u001b[0;34m\u001b[0m\u001b[0;34m\u001b[0m\u001b[0m\n\u001b[1;32m    964\u001b[0m \u001b[0;34m\u001b[0m\u001b[0m\n\u001b[0;32m--> 965\u001b[0;31m             grouper, exclusions, obj = get_grouper(\n\u001b[0m\u001b[1;32m    966\u001b[0m                 \u001b[0mobj\u001b[0m\u001b[0;34m,\u001b[0m\u001b[0;34m\u001b[0m\u001b[0;34m\u001b[0m\u001b[0m\n\u001b[1;32m    967\u001b[0m                 \u001b[0mkeys\u001b[0m\u001b[0;34m,\u001b[0m\u001b[0;34m\u001b[0m\u001b[0;34m\u001b[0m\u001b[0m\n",
            "\u001b[0;32m/usr/local/lib/python3.10/dist-packages/pandas/core/groupby/grouper.py\u001b[0m in \u001b[0;36mget_grouper\u001b[0;34m(obj, key, axis, level, sort, observed, mutated, validate, dropna)\u001b[0m\n\u001b[1;32m    886\u001b[0m                 \u001b[0min_axis\u001b[0m\u001b[0;34m,\u001b[0m \u001b[0mlevel\u001b[0m\u001b[0;34m,\u001b[0m \u001b[0mgpr\u001b[0m \u001b[0;34m=\u001b[0m \u001b[0;32mFalse\u001b[0m\u001b[0;34m,\u001b[0m \u001b[0mgpr\u001b[0m\u001b[0;34m,\u001b[0m \u001b[0;32mNone\u001b[0m\u001b[0;34m\u001b[0m\u001b[0;34m\u001b[0m\u001b[0m\n\u001b[1;32m    887\u001b[0m             \u001b[0;32melse\u001b[0m\u001b[0;34m:\u001b[0m\u001b[0;34m\u001b[0m\u001b[0;34m\u001b[0m\u001b[0m\n\u001b[0;32m--> 888\u001b[0;31m                 \u001b[0;32mraise\u001b[0m \u001b[0mKeyError\u001b[0m\u001b[0;34m(\u001b[0m\u001b[0mgpr\u001b[0m\u001b[0;34m)\u001b[0m\u001b[0;34m\u001b[0m\u001b[0;34m\u001b[0m\u001b[0m\n\u001b[0m\u001b[1;32m    889\u001b[0m         \u001b[0;32melif\u001b[0m \u001b[0misinstance\u001b[0m\u001b[0;34m(\u001b[0m\u001b[0mgpr\u001b[0m\u001b[0;34m,\u001b[0m \u001b[0mGrouper\u001b[0m\u001b[0;34m)\u001b[0m \u001b[0;32mand\u001b[0m \u001b[0mgpr\u001b[0m\u001b[0;34m.\u001b[0m\u001b[0mkey\u001b[0m \u001b[0;32mis\u001b[0m \u001b[0;32mnot\u001b[0m \u001b[0;32mNone\u001b[0m\u001b[0;34m:\u001b[0m\u001b[0;34m\u001b[0m\u001b[0;34m\u001b[0m\u001b[0m\n\u001b[1;32m    890\u001b[0m             \u001b[0;31m# Add key to exclusions\u001b[0m\u001b[0;34m\u001b[0m\u001b[0;34m\u001b[0m\u001b[0m\n",
            "\u001b[0;31mKeyError\u001b[0m: 'creator'"
          ]
        }
      ],
      "source": [
        "import requests\n",
        "import pandas as pd\n",
        "\n",
        "api_url = \"https://berita-indo-api-next.vercel.app/api/cnn-news/teknologi\"\n",
        "\n",
        "response = requests.get(api_url)\n",
        "\n",
        "if response.status_code == 200:\n",
        "    json_data = response.json()\n",
        "    df = pd.DataFrame(json_data['data'])\n",
        "    print(df.head(10))\n",
        "\n",
        "else:\n",
        "    print(f\"HTTP request failed with status code: {response.status_code}\")\n",
        "\n",
        "    df['isoDate'] = pd.to_datetime(df['isoDate'])\n",
        "print(df.dtypes)\n",
        "\n",
        "df_agg = df.groupby('creator').size()\n",
        "df_agg = df_agg.sort_values(ascending=False)\n",
        "print(df_agg)"
      ]
    }
  ]
}